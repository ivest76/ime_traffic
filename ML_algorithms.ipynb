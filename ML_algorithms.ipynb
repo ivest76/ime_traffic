{
 "cells": [
  {
   "cell_type": "code",
   "execution_count": 1,
   "metadata": {},
   "outputs": [],
   "source": [
    "import pandas as pd\n",
    "import numpy as np\n",
    "import streamlit as st\n",
    "from matplotlib import pyplot as plt # Matplotlib\n",
    "import datetime\n",
    "from datetime import datetime\n",
    "\n",
    "# Package to implement ML Algorithms\n",
    "import sklearn\n",
    "from sklearn.tree import DecisionTreeRegressor     # Decision Tree\n",
    "from sklearn.ensemble import RandomForestRegressor # Random Forest\n",
    "\n",
    "# Package for data partitioning\n",
    "from sklearn.model_selection import train_test_split\n",
    "\n",
    "# Package for generating confusion matrix\n",
    "from sklearn.metrics import confusion_matrix, ConfusionMatrixDisplay\n",
    "\n",
    "# Package for generating classification report\n",
    "from sklearn.metrics import classification_report\n",
    "\n",
    "# Import packages to implement Stratified K-fold CV\n",
    "from sklearn.model_selection import KFold # For creating folds\n",
    "\n",
    "# Import Package to implement GridSearch CV\n",
    "from sklearn.model_selection import GridSearchCV\n",
    "\n",
    "# Importing package for Randomized Search CV\n",
    "from sklearn.model_selection import RandomizedSearchCV\n",
    "\n",
    "# Package to record time\n",
    "import time\n",
    "\n",
    "# Package for Data pretty printer\n",
    "from pprint import pprint\n",
    "\n",
    "# Module to save and load Python objects to and from files\n",
    "import pickle \n",
    "\n",
    "# Ignore Deprecation Warnings\n",
    "import warnings\n",
    "warnings.filterwarnings('ignore')\n",
    "\n",
    "# Display inline plots as vector-based (svg)\n",
    "%config InlineBackend.figure_formats = ['svg']\n",
    "\n",
    "%matplotlib inline\n",
    "\n",
    "from xgboost import XGBClassifier"
   ]
  },
  {
   "cell_type": "code",
   "execution_count": 2,
   "metadata": {},
   "outputs": [
    {
     "data": {
      "text/html": [
       "<div>\n",
       "<style scoped>\n",
       "    .dataframe tbody tr th:only-of-type {\n",
       "        vertical-align: middle;\n",
       "    }\n",
       "\n",
       "    .dataframe tbody tr th {\n",
       "        vertical-align: top;\n",
       "    }\n",
       "\n",
       "    .dataframe thead th {\n",
       "        text-align: right;\n",
       "    }\n",
       "</style>\n",
       "<table border=\"1\" class=\"dataframe\">\n",
       "  <thead>\n",
       "    <tr style=\"text-align: right;\">\n",
       "      <th></th>\n",
       "      <th>holiday</th>\n",
       "      <th>temp</th>\n",
       "      <th>rain_1h</th>\n",
       "      <th>snow_1h</th>\n",
       "      <th>clouds_all</th>\n",
       "      <th>weather_main</th>\n",
       "      <th>traffic_volume</th>\n",
       "      <th>month</th>\n",
       "      <th>day</th>\n",
       "      <th>hour</th>\n",
       "    </tr>\n",
       "  </thead>\n",
       "  <tbody>\n",
       "    <tr>\n",
       "      <th>0</th>\n",
       "      <td>NaN</td>\n",
       "      <td>288.28</td>\n",
       "      <td>0.0</td>\n",
       "      <td>0.0</td>\n",
       "      <td>40</td>\n",
       "      <td>Clouds</td>\n",
       "      <td>5545</td>\n",
       "      <td>October</td>\n",
       "      <td>Tuesday</td>\n",
       "      <td>9</td>\n",
       "    </tr>\n",
       "    <tr>\n",
       "      <th>1</th>\n",
       "      <td>NaN</td>\n",
       "      <td>289.36</td>\n",
       "      <td>0.0</td>\n",
       "      <td>0.0</td>\n",
       "      <td>75</td>\n",
       "      <td>Clouds</td>\n",
       "      <td>4516</td>\n",
       "      <td>October</td>\n",
       "      <td>Tuesday</td>\n",
       "      <td>10</td>\n",
       "    </tr>\n",
       "    <tr>\n",
       "      <th>2</th>\n",
       "      <td>NaN</td>\n",
       "      <td>289.58</td>\n",
       "      <td>0.0</td>\n",
       "      <td>0.0</td>\n",
       "      <td>90</td>\n",
       "      <td>Clouds</td>\n",
       "      <td>4767</td>\n",
       "      <td>October</td>\n",
       "      <td>Tuesday</td>\n",
       "      <td>11</td>\n",
       "    </tr>\n",
       "    <tr>\n",
       "      <th>3</th>\n",
       "      <td>NaN</td>\n",
       "      <td>290.13</td>\n",
       "      <td>0.0</td>\n",
       "      <td>0.0</td>\n",
       "      <td>90</td>\n",
       "      <td>Clouds</td>\n",
       "      <td>5026</td>\n",
       "      <td>October</td>\n",
       "      <td>Tuesday</td>\n",
       "      <td>12</td>\n",
       "    </tr>\n",
       "    <tr>\n",
       "      <th>4</th>\n",
       "      <td>NaN</td>\n",
       "      <td>291.14</td>\n",
       "      <td>0.0</td>\n",
       "      <td>0.0</td>\n",
       "      <td>75</td>\n",
       "      <td>Clouds</td>\n",
       "      <td>4918</td>\n",
       "      <td>October</td>\n",
       "      <td>Tuesday</td>\n",
       "      <td>13</td>\n",
       "    </tr>\n",
       "  </tbody>\n",
       "</table>\n",
       "</div>"
      ],
      "text/plain": [
       "  holiday    temp  rain_1h  snow_1h  clouds_all weather_main  traffic_volume  \\\n",
       "0     NaN  288.28      0.0      0.0          40       Clouds            5545   \n",
       "1     NaN  289.36      0.0      0.0          75       Clouds            4516   \n",
       "2     NaN  289.58      0.0      0.0          90       Clouds            4767   \n",
       "3     NaN  290.13      0.0      0.0          90       Clouds            5026   \n",
       "4     NaN  291.14      0.0      0.0          75       Clouds            4918   \n",
       "\n",
       "     month      day  hour  \n",
       "0  October  Tuesday     9  \n",
       "1  October  Tuesday    10  \n",
       "2  October  Tuesday    11  \n",
       "3  October  Tuesday    12  \n",
       "4  October  Tuesday    13  "
      ]
     },
     "execution_count": 2,
     "metadata": {},
     "output_type": "execute_result"
    }
   ],
   "source": [
    "traffic = pd.read_csv(\"traffic_clean.csv\")\n",
    "traffic.head()"
   ]
  },
  {
   "cell_type": "code",
   "execution_count": 51,
   "metadata": {},
   "outputs": [
    {
     "data": {
      "text/plain": [
       "48204"
      ]
     },
     "execution_count": 51,
     "metadata": {},
     "output_type": "execute_result"
    }
   ],
   "source": [
    "traffic.index.size"
   ]
  },
  {
   "cell_type": "code",
   "execution_count": 3,
   "metadata": {},
   "outputs": [
    {
     "data": {
      "text/plain": [
       "holiday\n",
       "None                         0.998735\n",
       "Labor Day                    0.000145\n",
       "Thanksgiving Day             0.000124\n",
       "Christmas Day                0.000124\n",
       "New Years Day                0.000124\n",
       "Martin Luther King Jr Day    0.000124\n",
       "Columbus Day                 0.000104\n",
       "Veterans Day                 0.000104\n",
       "Washingtons Birthday         0.000104\n",
       "Memorial Day                 0.000104\n",
       "Independence Day             0.000104\n",
       "State Fair                   0.000104\n",
       "Name: proportion, dtype: float64"
      ]
     },
     "execution_count": 3,
     "metadata": {},
     "output_type": "execute_result"
    }
   ],
   "source": [
    "traffic[\"holiday\"].replace(np.nan, \"None\", inplace=True)\n",
    "traffic[\"holiday\"] = traffic[\"holiday\"].astype(str)\n",
    "traffic[\"holiday\"].value_counts(normalize=True)"
   ]
  },
  {
   "cell_type": "code",
   "execution_count": 4,
   "metadata": {},
   "outputs": [],
   "source": [
    "#getting ready for ml algorithms\n",
    "X = traffic.drop(columns = [\"traffic_volume\"])\n",
    "y =traffic[\"traffic_volume\"]"
   ]
  },
  {
   "cell_type": "code",
   "execution_count": 5,
   "metadata": {},
   "outputs": [
    {
     "data": {
      "text/html": [
       "<div>\n",
       "<style scoped>\n",
       "    .dataframe tbody tr th:only-of-type {\n",
       "        vertical-align: middle;\n",
       "    }\n",
       "\n",
       "    .dataframe tbody tr th {\n",
       "        vertical-align: top;\n",
       "    }\n",
       "\n",
       "    .dataframe thead th {\n",
       "        text-align: right;\n",
       "    }\n",
       "</style>\n",
       "<table border=\"1\" class=\"dataframe\">\n",
       "  <thead>\n",
       "    <tr style=\"text-align: right;\">\n",
       "      <th></th>\n",
       "      <th>temp</th>\n",
       "      <th>rain_1h</th>\n",
       "      <th>snow_1h</th>\n",
       "      <th>clouds_all</th>\n",
       "      <th>hour</th>\n",
       "      <th>holiday_Christmas Day</th>\n",
       "      <th>holiday_Columbus Day</th>\n",
       "      <th>holiday_Independence Day</th>\n",
       "      <th>holiday_Labor Day</th>\n",
       "      <th>holiday_Martin Luther King Jr Day</th>\n",
       "      <th>...</th>\n",
       "      <th>month_November</th>\n",
       "      <th>month_October</th>\n",
       "      <th>month_September</th>\n",
       "      <th>day_Friday</th>\n",
       "      <th>day_Monday</th>\n",
       "      <th>day_Saturday</th>\n",
       "      <th>day_Sunday</th>\n",
       "      <th>day_Thursday</th>\n",
       "      <th>day_Tuesday</th>\n",
       "      <th>day_Wednesday</th>\n",
       "    </tr>\n",
       "  </thead>\n",
       "  <tbody>\n",
       "    <tr>\n",
       "      <th>0</th>\n",
       "      <td>288.28</td>\n",
       "      <td>0.0</td>\n",
       "      <td>0.0</td>\n",
       "      <td>40</td>\n",
       "      <td>9</td>\n",
       "      <td>False</td>\n",
       "      <td>False</td>\n",
       "      <td>False</td>\n",
       "      <td>False</td>\n",
       "      <td>False</td>\n",
       "      <td>...</td>\n",
       "      <td>False</td>\n",
       "      <td>True</td>\n",
       "      <td>False</td>\n",
       "      <td>False</td>\n",
       "      <td>False</td>\n",
       "      <td>False</td>\n",
       "      <td>False</td>\n",
       "      <td>False</td>\n",
       "      <td>True</td>\n",
       "      <td>False</td>\n",
       "    </tr>\n",
       "    <tr>\n",
       "      <th>1</th>\n",
       "      <td>289.36</td>\n",
       "      <td>0.0</td>\n",
       "      <td>0.0</td>\n",
       "      <td>75</td>\n",
       "      <td>10</td>\n",
       "      <td>False</td>\n",
       "      <td>False</td>\n",
       "      <td>False</td>\n",
       "      <td>False</td>\n",
       "      <td>False</td>\n",
       "      <td>...</td>\n",
       "      <td>False</td>\n",
       "      <td>True</td>\n",
       "      <td>False</td>\n",
       "      <td>False</td>\n",
       "      <td>False</td>\n",
       "      <td>False</td>\n",
       "      <td>False</td>\n",
       "      <td>False</td>\n",
       "      <td>True</td>\n",
       "      <td>False</td>\n",
       "    </tr>\n",
       "    <tr>\n",
       "      <th>2</th>\n",
       "      <td>289.58</td>\n",
       "      <td>0.0</td>\n",
       "      <td>0.0</td>\n",
       "      <td>90</td>\n",
       "      <td>11</td>\n",
       "      <td>False</td>\n",
       "      <td>False</td>\n",
       "      <td>False</td>\n",
       "      <td>False</td>\n",
       "      <td>False</td>\n",
       "      <td>...</td>\n",
       "      <td>False</td>\n",
       "      <td>True</td>\n",
       "      <td>False</td>\n",
       "      <td>False</td>\n",
       "      <td>False</td>\n",
       "      <td>False</td>\n",
       "      <td>False</td>\n",
       "      <td>False</td>\n",
       "      <td>True</td>\n",
       "      <td>False</td>\n",
       "    </tr>\n",
       "    <tr>\n",
       "      <th>3</th>\n",
       "      <td>290.13</td>\n",
       "      <td>0.0</td>\n",
       "      <td>0.0</td>\n",
       "      <td>90</td>\n",
       "      <td>12</td>\n",
       "      <td>False</td>\n",
       "      <td>False</td>\n",
       "      <td>False</td>\n",
       "      <td>False</td>\n",
       "      <td>False</td>\n",
       "      <td>...</td>\n",
       "      <td>False</td>\n",
       "      <td>True</td>\n",
       "      <td>False</td>\n",
       "      <td>False</td>\n",
       "      <td>False</td>\n",
       "      <td>False</td>\n",
       "      <td>False</td>\n",
       "      <td>False</td>\n",
       "      <td>True</td>\n",
       "      <td>False</td>\n",
       "    </tr>\n",
       "    <tr>\n",
       "      <th>4</th>\n",
       "      <td>291.14</td>\n",
       "      <td>0.0</td>\n",
       "      <td>0.0</td>\n",
       "      <td>75</td>\n",
       "      <td>13</td>\n",
       "      <td>False</td>\n",
       "      <td>False</td>\n",
       "      <td>False</td>\n",
       "      <td>False</td>\n",
       "      <td>False</td>\n",
       "      <td>...</td>\n",
       "      <td>False</td>\n",
       "      <td>True</td>\n",
       "      <td>False</td>\n",
       "      <td>False</td>\n",
       "      <td>False</td>\n",
       "      <td>False</td>\n",
       "      <td>False</td>\n",
       "      <td>False</td>\n",
       "      <td>True</td>\n",
       "      <td>False</td>\n",
       "    </tr>\n",
       "  </tbody>\n",
       "</table>\n",
       "<p>5 rows × 47 columns</p>\n",
       "</div>"
      ],
      "text/plain": [
       "     temp  rain_1h  snow_1h  clouds_all  hour  holiday_Christmas Day  \\\n",
       "0  288.28      0.0      0.0          40     9                  False   \n",
       "1  289.36      0.0      0.0          75    10                  False   \n",
       "2  289.58      0.0      0.0          90    11                  False   \n",
       "3  290.13      0.0      0.0          90    12                  False   \n",
       "4  291.14      0.0      0.0          75    13                  False   \n",
       "\n",
       "   holiday_Columbus Day  holiday_Independence Day  holiday_Labor Day  \\\n",
       "0                 False                     False              False   \n",
       "1                 False                     False              False   \n",
       "2                 False                     False              False   \n",
       "3                 False                     False              False   \n",
       "4                 False                     False              False   \n",
       "\n",
       "   holiday_Martin Luther King Jr Day  ...  month_November  month_October  \\\n",
       "0                              False  ...           False           True   \n",
       "1                              False  ...           False           True   \n",
       "2                              False  ...           False           True   \n",
       "3                              False  ...           False           True   \n",
       "4                              False  ...           False           True   \n",
       "\n",
       "   month_September  day_Friday  day_Monday  day_Saturday  day_Sunday  \\\n",
       "0            False       False       False         False       False   \n",
       "1            False       False       False         False       False   \n",
       "2            False       False       False         False       False   \n",
       "3            False       False       False         False       False   \n",
       "4            False       False       False         False       False   \n",
       "\n",
       "   day_Thursday  day_Tuesday  day_Wednesday  \n",
       "0         False         True          False  \n",
       "1         False         True          False  \n",
       "2         False         True          False  \n",
       "3         False         True          False  \n",
       "4         False         True          False  \n",
       "\n",
       "[5 rows x 47 columns]"
      ]
     },
     "execution_count": 5,
     "metadata": {},
     "output_type": "execute_result"
    }
   ],
   "source": [
    "# One hot encoding for categorical variables\n",
    "cat_var = [\"holiday\", \"weather_main\", \"month\", \"day\"]\n",
    "X_encoded = pd.get_dummies(X, columns = cat_var)\n",
    "\n",
    "X_encoded.head()"
   ]
  },
  {
   "cell_type": "code",
   "execution_count": 6,
   "metadata": {},
   "outputs": [],
   "source": [
    "# Data partitioning into train and test sets\n",
    "train_X, test_X, train_y, test_y = train_test_split(X_encoded, y, test_size = 0.2, random_state = 42)"
   ]
  },
  {
   "cell_type": "code",
   "execution_count": 47,
   "metadata": {},
   "outputs": [],
   "source": [
    "#random forest best model\n",
    "regressor = RandomForestRegressor(random_state = 42)\n",
    "folds = KFold(n_splits = 3, shuffle = True, random_state = 42)\n",
    "param_grid = {\n",
    "    'max_depth': [21],\n",
    "    'min_samples_leaf': [4],\n",
    "    'min_samples_split': [9],\n",
    "    'n_estimators': [350]\n",
    "}\n",
    "#max_depth': 21, 'min_samples_leaf': 4, 'min_samples_split': 9, 'n_estimators': 350"
   ]
  },
  {
   "cell_type": "code",
   "execution_count": 48,
   "metadata": {},
   "outputs": [],
   "source": [
    "# Call GridSearchCV()\n",
    "model_cv = GridSearchCV(estimator = regressor, \n",
    "                        param_grid = param_grid, \n",
    "                        scoring= 'r2', \n",
    "                        cv = folds, \n",
    "                        verbose = 1,\n",
    "                        n_jobs = -1)"
   ]
  },
  {
   "cell_type": "code",
   "execution_count": 49,
   "metadata": {},
   "outputs": [
    {
     "name": "stdout",
     "output_type": "stream",
     "text": [
      "Fitting 3 folds for each of 1 candidates, totalling 3 fits\n",
      "Training time: 57.247065782547s\n",
      "Improved score:  0.9019151655506327\n",
      "Improved parameters:  {'max_depth': 21, 'min_samples_leaf': 400, 'min_samples_split': 300, 'n_estimators': 350}\n"
     ]
    }
   ],
   "source": [
    "# Fit the model\n",
    "start = time.time()            # Start Time\n",
    "model_cv.fit(train_X, train_y)  \n",
    "stop = time.time()             # End Time\n",
    "print(f\"Training time: {stop - start}s\")\n",
    "print('Improved score: ', model_cv.best_score_)\n",
    "print('Improved parameters: ', model_cv.best_params_)"
   ]
  },
  {
   "cell_type": "code",
   "execution_count": 50,
   "metadata": {},
   "outputs": [],
   "source": [
    "# Creating the file where we want to write the model\n",
    "rf_pickle = open('rf_traffic.pickle', 'wb') \n",
    "\n",
    "# Write RF model to the file\n",
    "pickle.dump(model_cv, rf_pickle) \n",
    "\n",
    "# Close the file\n",
    "rf_pickle.close()"
   ]
  },
  {
   "cell_type": "code",
   "execution_count": 28,
   "metadata": {},
   "outputs": [],
   "source": [
    "#decision tree model\n",
    "regressor = DecisionTreeRegressor(random_state = 42)\n",
    "folds = KFold(n_splits = 3, shuffle = True, random_state = 42)\n",
    "param_grid = {\n",
    "    'max_depth': [89],\n",
    "    'min_samples_leaf': [9],\n",
    "    'min_samples_split': [64]\n",
    "}\n",
    "#'max_depth': 89, 'min_samples_leaf': 9, 'min_samples_split': 64"
   ]
  },
  {
   "cell_type": "code",
   "execution_count": 29,
   "metadata": {},
   "outputs": [],
   "source": [
    "# Call GridSearchCV()\n",
    "model_cv = GridSearchCV(estimator = regressor, \n",
    "                        param_grid = param_grid, \n",
    "                        scoring= 'r2', \n",
    "                        cv = folds, \n",
    "                        verbose = 1,\n",
    "                        n_jobs = -1)"
   ]
  },
  {
   "cell_type": "code",
   "execution_count": 30,
   "metadata": {},
   "outputs": [
    {
     "name": "stdout",
     "output_type": "stream",
     "text": [
      "Fitting 3 folds for each of 1 candidates, totalling 3 fits\n",
      "Training time: 1.0063002109527588s\n",
      "Improved score:  0.9393871334641242\n",
      "Improved parameters:  {'max_depth': 89, 'min_samples_leaf': 9, 'min_samples_split': 64}\n"
     ]
    }
   ],
   "source": [
    "# Fit the model\n",
    "start = time.time()            # Start Time\n",
    "model_cv.fit(train_X, train_y)  \n",
    "stop = time.time()             # End Time\n",
    "print(f\"Training time: {stop - start}s\")\n",
    "print('Improved score: ', model_cv.best_score_)\n",
    "print('Improved parameters: ', model_cv.best_params_)"
   ]
  },
  {
   "cell_type": "code",
   "execution_count": 31,
   "metadata": {},
   "outputs": [],
   "source": [
    "# Creating the file where we want to write the model\n",
    "dt_pickle = open('dt_traffic.pickle', 'wb') \n",
    "\n",
    "# Write RF model to the file\n",
    "pickle.dump(model_cv, dt_pickle) \n",
    "\n",
    "# Close the file\n",
    "dt_pickle.close()"
   ]
  },
  {
   "cell_type": "code",
   "execution_count": 7,
   "metadata": {},
   "outputs": [],
   "source": [
    "from sklearn.ensemble import AdaBoostRegressor\n",
    "from sklearn.model_selection import StratifiedKFold"
   ]
  },
  {
   "cell_type": "code",
   "execution_count": 13,
   "metadata": {},
   "outputs": [],
   "source": [
    "regressor = AdaBoostRegressor(random_state=42)\n",
    "folds = StratifiedKFold(n_splits = 5, shuffle = True, random_state = 42)"
   ]
  },
  {
   "cell_type": "code",
   "execution_count": null,
   "metadata": {},
   "outputs": [],
   "source": [
    "'''\n",
    "n_estimators = [int(x) for x in np.linspace(start = 5, stop = 500, num = 10)]\n",
    "\n",
    "learning_rate = [x for x in np.arange(0.1, 2.1, 0.1)]\n",
    "\n",
    "param_grid = {'n_estimators': n_estimators,\n",
    "               'learning_rate': learning_rate\n",
    "}\n",
    "\n",
    "model_cv = RandomizedSearchCV(estimator = regressor,\n",
    "                              param_distributions = param_grid,\n",
    "                              n_iter = 100,\n",
    "                              scoring = 'f1_macro',\n",
    "                              cv = folds,\n",
    "                              verbose = 2,\n",
    "                              random_state = 42,\n",
    "                              n_jobs = -1)\n",
    "'''"
   ]
  },
  {
   "cell_type": "code",
   "execution_count": 14,
   "metadata": {},
   "outputs": [],
   "source": [
    "#best model:\n",
    "#'learning_rate': 0.1, 'n_estimators': 65\n",
    "param_grid = {'n_estimators': [65],\n",
    "               'learning_rate': [0.1]\n",
    "}"
   ]
  },
  {
   "cell_type": "code",
   "execution_count": 15,
   "metadata": {},
   "outputs": [],
   "source": [
    "# Call GridSearchCV()\n",
    "model_cv = GridSearchCV(estimator = regressor, \n",
    "                        param_grid = param_grid, \n",
    "                        scoring= 'r2', \n",
    "                        cv = folds, \n",
    "                        verbose = 1,\n",
    "                        n_jobs = -1)"
   ]
  },
  {
   "cell_type": "code",
   "execution_count": 16,
   "metadata": {},
   "outputs": [
    {
     "name": "stdout",
     "output_type": "stream",
     "text": [
      "Fitting 5 folds for each of 1 candidates, totalling 5 fits\n",
      "Training time: 43.694491147994995s\n",
      "Improved score:  0.8168258819731143\n",
      "Improved parameters:  {'learning_rate': 0.1, 'n_estimators': 65}\n"
     ]
    }
   ],
   "source": [
    "# Fit the model\n",
    "start = time.time()            # Start Time\n",
    "model_cv.fit(train_X, train_y)  \n",
    "stop = time.time()             # End Time\n",
    "print(f\"Training time: {stop - start}s\")\n",
    "print('Improved score: ', model_cv.best_score_)\n",
    "print('Improved parameters: ', model_cv.best_params_)"
   ]
  },
  {
   "cell_type": "code",
   "execution_count": 17,
   "metadata": {},
   "outputs": [],
   "source": [
    "#saving adaboost model\n",
    "ad_pickle = open('ad_traffic.pickle', 'wb') \n",
    "\n",
    "# Write RF model to the file\n",
    "pickle.dump(model_cv, ad_pickle) \n",
    "\n",
    "# Close the file\n",
    "ad_pickle.close()"
   ]
  },
  {
   "cell_type": "code",
   "execution_count": 8,
   "metadata": {},
   "outputs": [],
   "source": [
    "#XGBOOST MODEL\n",
    "from xgboost import XGBRegressor"
   ]
  },
  {
   "cell_type": "code",
   "execution_count": 20,
   "metadata": {},
   "outputs": [],
   "source": [
    "regressor = XGBRegressor(seed=27)"
   ]
  },
  {
   "cell_type": "code",
   "execution_count": 21,
   "metadata": {},
   "outputs": [],
   "source": [
    "'''\n",
    "folds = StratifiedKFold(n_splits = 5, shuffle = True, random_state = 42)\n",
    "\n",
    "param_grid = {'n_estimators': [5, 50, 100, 200],\n",
    "               'learning_rate': [0.1, 1, 1.5, 2],\n",
    "               'max_depth': [5, 7, 9],\n",
    "               'min_child_weight': [1, 3, 5]\n",
    "}\n",
    "\n",
    "model_cv = RandomizedSearchCV(estimator = regressor,\n",
    "                              param_distributions = param_grid,\n",
    "                              n_iter = 100,\n",
    "                              scoring = 'r2',\n",
    "                              cv = folds,\n",
    "                              verbose = 2,\n",
    "                              random_state = 42,\n",
    "                              n_jobs = -1)\n",
    "'''"
   ]
  },
  {
   "cell_type": "code",
   "execution_count": 25,
   "metadata": {},
   "outputs": [],
   "source": [
    "#'learning_rate': 0.1, 'max_depth': 10, 'min_child_weight': 4, 'n_estimators': 210\n",
    "param_grid = {'n_estimators': [10],\n",
    "               'learning_rate': [0.1],\n",
    "               'max_depth': [10],\n",
    "               'min_child_weight': [4]\n",
    "}\n",
    "\n",
    "# Call GridSearchCV()\n",
    "model_cv = GridSearchCV(estimator = regressor, \n",
    "                        param_grid = param_grid, \n",
    "                        scoring= 'r2', \n",
    "                        cv = folds, \n",
    "                        verbose = 1,\n",
    "                        n_jobs = -1)"
   ]
  },
  {
   "cell_type": "code",
   "execution_count": 26,
   "metadata": {},
   "outputs": [
    {
     "name": "stdout",
     "output_type": "stream",
     "text": [
      "Fitting 5 folds for each of 1 candidates, totalling 5 fits\n",
      "Training time: 2.078402042388916s\n",
      "Improved score:  0.8261706930917037\n",
      "Improved parameters:  {'learning_rate': 0.1, 'max_depth': 10, 'min_child_weight': 4, 'n_estimators': 10}\n"
     ]
    }
   ],
   "source": [
    "# Fit the model\n",
    "start = time.time()            # Start Time\n",
    "model_cv.fit(train_X, train_y)  \n",
    "stop = time.time()             # End Time\n",
    "print(f\"Training time: {stop - start}s\")\n",
    "print('Improved score: ', model_cv.best_score_)\n",
    "print('Improved parameters: ', model_cv.best_params_)"
   ]
  },
  {
   "cell_type": "code",
   "execution_count": 27,
   "metadata": {},
   "outputs": [],
   "source": [
    "#saving adaboost model\n",
    "xg_pickle = open('xg_traffic.pickle', 'wb') \n",
    "\n",
    "# Write RF model to the file\n",
    "pickle.dump(model_cv, xg_pickle) \n",
    "\n",
    "# Close the file\n",
    "xg_pickle.close()"
   ]
  },
  {
   "cell_type": "code",
   "execution_count": 10,
   "metadata": {},
   "outputs": [
    {
     "data": {
      "text/plain": [
       "['Clouds',\n",
       " 'Clear',\n",
       " 'Rain',\n",
       " 'Drizzle',\n",
       " 'Mist',\n",
       " 'Haze',\n",
       " 'Fog',\n",
       " 'Thunderstorm',\n",
       " 'Snow',\n",
       " 'Squall',\n",
       " 'Smoke']"
      ]
     },
     "execution_count": 10,
     "metadata": {},
     "output_type": "execute_result"
    }
   ],
   "source": [
    "traffic[\"weather_main\"].unique().tolist()"
   ]
  }
 ],
 "metadata": {
  "kernelspec": {
   "display_name": "base",
   "language": "python",
   "name": "python3"
  },
  "language_info": {
   "codemirror_mode": {
    "name": "ipython",
    "version": 3
   },
   "file_extension": ".py",
   "mimetype": "text/x-python",
   "name": "python",
   "nbconvert_exporter": "python",
   "pygments_lexer": "ipython3",
   "version": "3.11.5"
  }
 },
 "nbformat": 4,
 "nbformat_minor": 2
}
